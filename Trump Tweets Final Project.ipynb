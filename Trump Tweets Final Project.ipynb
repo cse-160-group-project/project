{
 "cells": [
  {
   "cell_type": "markdown",
   "metadata": {},
   "source": [
    "# Impact of Trumps Tweets\n",
    "### by: Ginue(Justin) Han and Leo Crabbe\n",
    "\n",
    "\n",
    "## Research Questions\n",
    "Donald Trump’s Twitter presence was one of the key factors in his 2016 presidential campaign, and remains one of the most infamous facets of his presidency. This project will analyse his Twitter output to find potential patterns in the way he posts on the website.\n",
    "1. What are the top 20 words he uses in his tweets?\n",
    "We are trying to compute the most words he uses excluding words like “I”, “the”, etc. We want to see if the words he uses have positive or negative meanings. \n",
    "2. Is there a correlation between his tweets and approval rating?\n",
    "We are trying to compute a correlation between the number of favorites his tweets gets and approval rating. We want to see if his controversial tweets affect his approval rating.\n",
    "3. When does he tweet the most?\n",
    "We are trying to find a correlation between the time of day and how likely Trump is to tweet.\n",
    "4. How often does he use superlatives?\n",
    "We are trying to compute how frequently he uses words like “best”, “greatest”, etc, and whether his use of them has changed over time. More specifically did he begin using them more during his bid for the presidency?\n",
    "5. What is the overall tone (positive/negative) of Trumps tweets?\n",
    "We are trying to determine if Trumps tweets are more negative or positive based on the words he uses because we want to see what kind of tone he sends to his followers. \n",
    "\n",
    "Since our 3rd group member dropped the class, we decided to drop our 6th research question _Has hate crime increased during Trump's presidency compared to previous presidencies(last 2 or 3)?_ since that was his research question and it didn't really relate to what we wanted to do. We also decided to replace our 5th research question _What tweets have the most reach?_ with _What is the overall tone (positive/negative) of Trumps tweets?_ because the original was difficult to answer and the new RQ seemed really interesting to figure out. \n",
    "\n",
    "## Motivation and Background\n",
    "\n",
    "In this age, social media plays a huge role in getting information to people in a fast and easy way as well as communicating your thoughts. Many popular people use social media and attract millions of followers who want to keep up to date on what they are doing and saying which can have a major impact on their followers and their image depending on what they say. President Trump is one of the first presidents of the USA to utilize social media(Twitter) to this extent sending out several tweets almost everyday garnering thousands of comments, retweets, and likes. Some of these tweets are considered to be incredibly controversial with his comments on his opposition, the wall, etc. His tweets have a major influence on his followers and we want to see what topics he tweets about, what tweets are the most controversial, correlation between his tweets and approval rating, and crime rates. It is important to track his tweets because of his views that tend to misinform and incite hate among his followers. By tracking what he tweets and what has the greatest impact can help us pinpoint what issues are seemingly most important and controversial in America as well as seeing if his tweets are causing a greater divide. \n",
    "\n",
    "## Dataset\n",
    "\n",
    "For the Trump approval ratings data, the data was collected through polls and compiled together in a csv document. It includes the dates the polls were taken from 2017 to 2019, the high and low ratings for approval and disapproval, and then the averages for approval and disapproval. \n",
    "https://github.com/fivethirtyeight/data/tree/master/trump-approval-ratings\n",
    "\n",
    "This website keeps track of Trumps tweets. We had to copy and paste JSON text form the website into a JSON->CSV converter inorder to get the data into a useable format. \n",
    "http://www.trumptwitterarchive.com/archive\n",
    "\n",
    "This website has a list of positive and negative words on different pages. In order to use these words, I copied and pasted the page into a text file and used python to extract and filter what I needed.\n",
    "http://positivewordsresearch.com/list-of-positive-words/\n",
    "http://positivewordsresearch.com/list-of-negative-words/\n",
    "\n",
    "\n",
    "## Methodology\n",
    "\n",
    "For this project, while each question has its own individual approach, there is a general process that connects them. For the first three questions we are going to be analyzing individual Tweets and comparing them with some variable that differs between the three questions. For the first question we want to analyze the individual words of each tweet by turning every tweet into a list or dictionary and keeping count of how many times individual words appear. With this information we want to see the type of connotation that are associated with each word.For question Two we want to see if there is a correlation with between Trump’s tweet and the nations perception of him using presidential approval ratings. We want to compare the general time frame of a tweet and see if there is a significant change in his approval rating. For the third question we want to see when he is most likely to tweet by extracting the time a tweet was published and keeping track how often a tweet is likely to occur at a given time. For this one we are trying to see if there is a range of times, say between 2am-3am, when he is most likely to post on his social media. For this question we are not analyzing the content of the tweets themselves but rather the time when one could expect a tweet to most likely occur.\n",
    "    \n",
    "Question Four has the same general process of question one with the except that we will only be looking for certain words to appear rather than seeing how many times different words appear. We will make a dictionary or list (unsure at this time) with certain keywords already included and using function to count the number of times those words have appeared in his tweets similar to question one. The difference we want to observe between this question and question is one whether there has been a change in usage over time. We want to compare his usage of these words with his time in the presidency to see if the frequency of their usage has increased or decreased with time. Question 5 explores the possibility of the structure/length of a tweet influencing the overall reach of his tweets. We want to see if there is a correlation between how many characters his tweets contain and how many people interact with his tweet by “liking” the tweet. For this question we have considered the possibility of no correlation existing. Question Six will be approached by making a graph of the general trend in hate crimes across a few years. We will examine the overall numbers of hate crimes perpetrated as stated by the FBI for several years under 2 different presidencies. For this question we are aware that the general trend for hate crimes has been increasing over the years, likely due to an increasing and diversifying population, we want to see if there is a larger increase than what should be expected under Trump’s presidency. To do this we will create two graphs using the statistics for Obama’s presidency (or some other president or more than one president)  and one for Trump’s presidency and then compare the slope of the graphs with each other. This question represents a unique challenge because although the FBI database goes back several presidents, the newest report for 2018 or 2019 are not yet available for Trump so we only have 2 possible data points so far which greatly sway the slope of a graph compared to other presidents. A possible solution that we are considering is using only the first two years of two different presidents and comparing those to Trump’s first two years as president. \n",
    "\n",
    "## Workplan\n",
    "\n",
    "This project is comprised of 6 smaller questions rather than one big one, so we will be assigning 2 questions to each member of the group.\n",
    "\n",
    "The work for each question will involve a few common steps:\n",
    "1. __Extract the data (1-2 days):__ The main file we will be using is a large .csv file containing all Trump’s tweets paired with data on how they were received on Twitter. Some of our questions require only the tweets’ contents, some require contents in addition to number of retweets, favourites, etc. Therefore we’ll have to extract a different set of strings for each question using file IO commands. \n",
    "\n",
    "2. __Analyse the data (2-3 days):__ In the case of question 1, for example, this will involve creating a dictionary containing every word in the tweets (as keys) paired with the number of times they are used, and then iteratively appending the top 20 words to a list. A similar dictionary method will be used for question 3, but with times of the day and number of tweets as the pairing. For question 4 words ending in -est will be extracted and counted, and again the most common ones will be appended to a list (the words will have to be combed through to avoid outlier non-superlatives like ‘guest’ and also to include words like ‘least’ which don’t end in -est. The other 3 questions are correlation questions, each testing whether there’s a correlation between 2 variables. In each case a scatterplot of them will be plotted, and the Pearson coefficient for the plot will be calculated. \n",
    "\n",
    "3.  __Interpret the data (1 day):__ In the case of the correlation questions, this means interpreting the coefficient to conclude whether a correlation exists, and in the case of the other questions this means looking at the trends and offering a hypothesis as to why they exist.\n",
    "\n",
    "4.  __Presenting the data (1 day):__ After the relevant data is gathered and conclusions have been drawn the data/conclusions should be presented in an easy to read fashion in a Jupyter Notebook/PDF file. Each individual will format their own questions’ section in the report.Throughout this assignment we will be consulting each other about our respective questions if we encounter problems. We have a shared Google Doc where we’ll be able to paste and edit each-other’s code. We won’t be pair coding as we will each have 2 questions to work on independently, though if we do find ours difficult we’ll meet and work on it together. \n"
   ]
  },
  {
   "cell_type": "markdown",
   "metadata": {},
   "source": [
    "### Code\n"
   ]
  },
  {
   "cell_type": "code",
   "execution_count": 2,
   "metadata": {},
   "outputs": [],
   "source": [
    "\n",
    "import csv\n",
    "import matplotlib\n",
    "import matplotlib.pyplot as plt\n",
    "import matplotlib.dates as mdates\n",
    "import numpy as np\n",
    "import datetime as dt\n",
    "import pandas as pd"
   ]
  },
  {
   "cell_type": "markdown",
   "metadata": {},
   "source": [
    "This code finds data on Trumps approval ratings taken from polls, the dates the  polls were taken, the number of favorites his tweets gets, the dates each tweet was tweeted, and then compiles approval ratings and tweet favorites by month and calculates the average for each month. The approval_ratings(file) function extracts every approval rating value and adds them to a list. The date(file) function extracts dates each approval rating poll was taken. The average_per_month(values, dates) calculates the average of the values list for each month in the dates list. The favorite_count(file) extracts every number of favorites each tweet gets and stores it in list. tweet_date(file) function extracts every date each tweet was posted and stores it in a list. "
   ]
  },
  {
   "cell_type": "code",
   "execution_count": 3,
   "metadata": {},
   "outputs": [],
   "source": [
    "#####JUSTINS CODE#####\n",
    "\n",
    "def approval_ratings(file):\n",
    "    '''This function gathers every approval rating value and adds it to a list and returns\n",
    "    that list. It takes in the file parameter which is a csv with the approval rating data'''\n",
    "    open_file = open(file)\n",
    "    csv_file = csv.reader(open_file)\n",
    "    #stores indexes of columns you want values from\n",
    "    approval_column_index = 0\n",
    "    #stores values from desired columns\n",
    "    approval_values=[]\n",
    "    #loop through the rows in the csv file\n",
    "    for row in csv_file:\n",
    "        #if the indexes var is empty, loop through the elements in the row and \n",
    "        #if its == approve/disapprove_estimate, then add the index number to \n",
    "        #the approvae/disapprove index var.\n",
    "        if approval_column_index == 0:\n",
    "            for i in range(len(row)):\n",
    "                if \"approve_estimate\" == row[i]:\n",
    "                    approval_column_index = i\n",
    "        else:\n",
    "            approval_values.append(float(row[approval_column_index]))\n",
    "    return list(reversed(approval_values))\n",
    "    \n",
    "\n",
    "def date(file):\n",
    "    '''This function gathers every date associated to every poll that was taken to measure Trumps\n",
    "    approval rating and adds it to a list and returns that list. It adjusts the date so it only\n",
    "    takes the month/year the poll was taken. It takes in a csv as the file parameter.'''\n",
    "    open_file = open(file)\n",
    "    csv_file = csv.reader(open_file)\n",
    "    #helps determine if its the first row of csv file or not in if statment\n",
    "    first_row = True\n",
    "    #stores dates values in list\n",
    "    dates=[]\n",
    "    #loop through the rows in the csv file\n",
    "    for row in csv_file:\n",
    "        #if first_row is true (if its the first row of csv file) then change value to false\n",
    "        #and loop to next row\n",
    "        if first_row == True:\n",
    "            first_row = False\n",
    "        else:\n",
    "            #if there is a / for value in dates column of row, append first char to dates list.\n",
    "            #if/else gets the month part of value\n",
    "            if \"/\" in row[2][0:2]:\n",
    "                dates.append(row[2][0])\n",
    "            #else append the first 2 char of the value. \n",
    "            else:\n",
    "                dates.append(row[2][0:2])\n",
    "            #add the values at the end of the date value from [-5:] which is the year\n",
    "            dates[len(dates)-1] += row[2][-5:]\n",
    "    #reverse the list so the dates go from old to new\n",
    "    return list(reversed(dates))\n",
    "\n",
    "#stores the list of dates and approval ratings\n",
    "dates_list = date(\"data/approval_topline.csv\")\n",
    "ratings_list = approval_ratings(\"data/approval_topline.csv\")\n",
    "\n",
    "def average_per_month(values, dates):\n",
    "    '''This function calculates the average for each month. It takes in the values\n",
    "    parameter which is a list of values and the dates parameter which is a list\n",
    "    of dates associated to those values'''\n",
    "    #stores average ratings per month\n",
    "    ratings_per_month = {}\n",
    "    #counter to keep track of number of polls in month\n",
    "    counter = {}\n",
    "    #loops through the length of dates list\n",
    "    for i in range(len(dates)):\n",
    "        #if the current  month/year is not in the ratings_per_month dict,\n",
    "        #add it and set its associated values value to it\n",
    "        if dates[i] not in ratings_per_month.keys():\n",
    "            ratings_per_month[dates[i]] = values[i]\n",
    "            #set counter = 1\n",
    "            counter[dates[i]] = 1\n",
    "        else:\n",
    "            #else if month/year already set, add associated value to that month/year\n",
    "            ratings_per_month[dates[i]] += values[i]\n",
    "            #increase counter of that date by one\n",
    "            counter[dates[i]] += 1\n",
    "    #loops through the keys/dates in dict and calculates the average for each value associated ot the key\n",
    "    for key in ratings_per_month.keys():\n",
    "        ratings_per_month[key] = ratings_per_month[key]/counter[key]\n",
    "    return ratings_per_month\n",
    "    \n",
    "approval_ratings_data = average_per_month(ratings_list, dates_list)\n",
    "def favorite_count(file,d='\\t'):\n",
    "    '''This function extracts the number of favorites each of his tweets gets and\n",
    "    appends them to a list and returns it. takes in a csv as the file parameter'''\n",
    "    open_file = open(file,'r', encoding='utf8', errors='ignore')\n",
    "    csv_file = csv.reader(open_file)\n",
    "    favorite_column_index = 0\n",
    "    #stores values of the number of favorites a tweet gets. \n",
    "    favorite_values=[]\n",
    "    #loop through the rows in the csv file\n",
    "    for row in csv_file:\n",
    "        #if the indexes var is empty, loop through the elements in the row and \n",
    "        #if its == favorite_count then set favorite_column_index to i so you know\n",
    "        #what column index contains the number of favorites values\n",
    "        if favorite_column_index == 0:\n",
    "            for i in range(len(row)):\n",
    "                if \"favorite_count\" == row[i]:\n",
    "                    favorite_column_index = i\n",
    "        #if you already know the favorite_column_index, then add the number of favorites values\n",
    "        #to the favorite_values list\n",
    "        else:\n",
    "            favorite_values.append(int(row[favorite_column_index]))\n",
    "    #return list and reverse its order.\n",
    "    return list(reversed(favorite_values))\n",
    "\n",
    "def tweet_date(file):\n",
    "    '''This function extracts the associated date for a tweet month/year and appends\n",
    "    it to a list and returns it. Takes in a csv as the file parameter'''\n",
    "    open_file = open(file,'r', encoding='utf8', errors='ignore')\n",
    "    csv_file = csv.reader(open_file)\n",
    "    #stores indexes of columns you want values from\n",
    "    first_col = True\n",
    "    #stores values of dates of when tweet was made\n",
    "    dates=[]\n",
    "    #loop through the rows in the csv file\n",
    "    for row in csv_file:\n",
    "        #if first_row is true (if its the first row of csv file) then change value to false\n",
    "        #and loop to next row\n",
    "        if first_col == True:\n",
    "            first_col = False\n",
    "        #else append the value i nmonth column, add / to it, and add the value in the year column.\n",
    "        #formats to month/year\n",
    "        else:\n",
    "            dates.append(row[3])\n",
    "            dates[len(dates)-1] += \"/\"\n",
    "            dates[len(dates)-1] += row[4]\n",
    "    #return reversed list of dates\n",
    "    return list(reversed(dates))\n",
    "\n",
    "dates_tweet_list = tweet_date(\"data/tweets.csv\")\n",
    "favorites_tweet_list = favorite_count(\"data/tweets.csv\")\n",
    "tweet_favorite_data = average_per_month(favorites_tweet_list, dates_tweet_list)"
   ]
  },
  {
   "cell_type": "markdown",
   "metadata": {},
   "source": [
    "These functions gather data on positive and negative words and counts the number of times those words appears in trumps tweets. extract_words(file, word_type) function takes in a text file containing either postive or negative words and loops through them to extract the words and return a list of them. the word_type is supposed to help with skipping the rows of the file that are unecessary. The pos_neg_word_count(file,word_list) function keeps track of the number of times he uses positive or negative words in his tweets depending on which word_list you input. "
   ]
  },
  {
   "cell_type": "code",
   "execution_count": 4,
   "metadata": {},
   "outputs": [],
   "source": [
    "def extract_words(file, word_type):\n",
    "    '''This function extracts the words from a file, appends them to a list, and returns the list. Takes\n",
    "    in a text file for the file parameter and takes in \"Negative\" or \"Postive\" as values for the\n",
    "    word_type parameter. '''\n",
    "    #opens text file\n",
    "    open_file = open(file)\n",
    "    #stores the words in file\n",
    "    word_list = []\n",
    "    #loop through every row in file\n",
    "    for row in open_file:\n",
    "        #if the current row has more then one word in it...\n",
    "        if len(row) > 1: \n",
    "            #if the first word in the row is == to \"Positive\" or \"Negative\", then skip the line\n",
    "            if row.split()[0] == word_type:\n",
    "                    continue\n",
    "            #else, for every word in the row...\n",
    "            else:\n",
    "                for word in row.split():\n",
    "                    #if the word ends in a comma, add the word minus the comma in lowercase to the words list\n",
    "                    if word[-1] == \",\":\n",
    "                        word_list.append(word[:len(word)-1].lower())\n",
    "                    #elif the word==\"-\" then move onto the next word in loop\n",
    "                    elif word == \"–\":\n",
    "                        break\n",
    "                    #else, it is a word and append it its lowercase form into the word_list\n",
    "                    else:\n",
    "                        word_list.append(word.lower())\n",
    "    return word_list\n",
    "        \n",
    "negative_words_list = extract_words(\"data/negative_words.txt\", \"Negative\")\n",
    "positive_words_list = extract_words(\"data/positive_words.txt\", \"Positive\")\n",
    "\n",
    "def pos_neg_word_count(file, word_list):\n",
    "    '''This function returns the count of the number of times words in a list appear in a file with strings.\n",
    "    The file parameter takes in a csv file and the word_list takes in a list of words. The csv file contains\n",
    "    words that will be tested to see if they exist in the word_list'''\n",
    "    open_file = open(file,'r', encoding='utf8', errors='ignore')\n",
    "    csv_file = csv.reader(open_file)\n",
    "    first_col = True\n",
    "    counter = 0\n",
    "    alphabet = [\"a\", \"b\", \"c\", \"d\", \"e\", \"f\", \"g\", \"h\", \"i\", \"j\", \"k\", \"l\", \"m\", \n",
    "                \"n\", \"o\", \"p\", \"q\", \"r\", \"s\", \"t\", \"u\", \"v\", \"w\", \"x\", \"y\", \"z\"]\n",
    "    current_word =\"\"\n",
    "    #loop through the rows in the csv file\n",
    "    for row in csv_file:\n",
    "        #if first_row is true (if its the first row of csv file) then change value to false\n",
    "        #and loop to next row\n",
    "        if first_col == True:\n",
    "            first_col = False\n",
    "        else:\n",
    "            #loops through words in first column of row\n",
    "            for word in row[0].split():\n",
    "                #loops through every letter in row\n",
    "                for letter in word:\n",
    "                    #if the letter is in the alphabet, add it to current_word. makes sure word contains just char\n",
    "                    #and no other symbols like @\n",
    "                    if letter.lower() in alphabet:\n",
    "                        current_word += letter \n",
    "                #if the current word is in the positive/negative word_list, increase the counter by one \n",
    "                if current_word.lower() in word_list:\n",
    "                    counter += 1\n",
    "                #resets current_word\n",
    "                current_word=\"\"\n",
    "    return counter\n",
    "pos_neg_word_count(\"data/tweets.csv\", negative_words_list)\n",
    "number_positive_words = pos_neg_word_count(\"data/tweets.csv\", positive_words_list)\n",
    "number_negative_words = pos_neg_word_count(\"data/tweets.csv\", negative_words_list)\n"
   ]
  },
  {
   "cell_type": "markdown",
   "metadata": {},
   "source": [
    "This code helps us analyze our results by plotting them out into bar graphs and line graphs. The bar_plot_for_words(pos_words_count, neg_words_count) function plots out bars for the postive word count and the negative word count in trumps tweets. The two_line_plot(dict1, dict2) function plots a line for Trumps average rating per month and another line for the average number of favorites he gets for his tweets per month. "
   ]
  },
  {
   "cell_type": "code",
   "execution_count": 5,
   "metadata": {},
   "outputs": [],
   "source": [
    "#####FUNCTIONS FOR PLOTTING #####\n",
    "def bar_plot_for_words(pos_words_count, neg_words_count):\n",
    "    '''creates a bar graph with two bars to compare the how often Positive\n",
    "    or Negative words are used. takes in the parameters pos_words_count which\n",
    "    is a number of times positive words are used and neg_words_count which is \n",
    "    the number of times negative words are used.'''\n",
    "    #sets the names of the bars\n",
    "    bar_names =[\"Postive Words\", \"Negative Words\"]\n",
    "    #creates a list of the values of each bar\n",
    "    count = [pos_words_count, neg_words_count]\n",
    "    fig, axs = plt.subplots()\n",
    "    #plots the bars\n",
    "    axs.bar(bar_names, count, color=[\"green\", \"red\"])\n",
    "    #creates title for graph\n",
    "    fig.suptitle(\"Number of Positive/Negative Words in Trumps Tweets\")\n",
    "    \n",
    "def two_line_plot(dict1, dict2):\n",
    "    '''Creates two different lines graphs that share the same x axis but have \n",
    "    different y axis. takes in dict1 and dict2 as parameters and use them to\n",
    "    plot the lines. '''\n",
    "    fig, ax1 = plt.subplots()\n",
    "    color = 'tab:red'\n",
    "    #sets x and y label. color= sets color of y label\n",
    "    ax1.set_xlabel(\"Date\")\n",
    "    ax1.set_ylabel(\"Average Approval Rating\", color=color)\n",
    "    #plot dict1.keys() as x axis and dict1.values() as line. sets color of line\n",
    "    ax1.plot(dict1.keys(),dict1.values(), color=color)\n",
    "    #rotates x tick labels\n",
    "    plt.xticks(rotation=90)\n",
    "    #colors the ax1 label\n",
    "    ax1.tick_params(axis='y', labelcolor=color)\n",
    "    #create a 2nd axes that shares same x axis as ax1\n",
    "    ax2 = ax1.twinx()\n",
    "    color2 = 'tab:blue'\n",
    "    #sets ylabel name and color\n",
    "    ax2.set_ylabel(\"Average Tweet Favorites\", color=color2)\n",
    "    #plots dict2\n",
    "    ax2.plot(dict2.values(), color=color2)\n",
    "    #colors ylabel\n",
    "    ax2.tick_params(axis='y', labelcolor=color2)\n",
    "    fig.suptitle(\"Average Approval Rating and Tweet Favorites\")\n",
    "    plt.show()\n",
    "    \n"
   ]
  },
  {
   "cell_type": "markdown",
   "metadata": {},
   "source": [
    "## Results\n"
   ]
  },
  {
   "cell_type": "code",
   "execution_count": 6,
   "metadata": {},
   "outputs": [
    {
     "data": {
      "image/png": "[encoded data removed]",
      "text/plain": [
       "<Figure size 432x288 with 2 Axes>"
      ]
     },
     "metadata": {
      "needs_background": "light"
     },
     "output_type": "display_data"
    }
   ],
   "source": [
    "two_line_plot(approval_ratings_data, tweet_favorite_data)"
   ]
  },
  {
   "cell_type": "markdown",
   "metadata": {},
   "source": [
    "This line graph addresses the research question: __Is there a correlation between his tweets and approval rating?__ The graph plots two different types of data. The red line plots Trumps average approval rating per month from January, 2017 to March, 2019. The blue line plots the average number of favorites Trump gets for his tweets per month. I got this result by adding up his total approval rating/tweet favorites for every month and divided the total by the number of polls to calculate average approval rating per month and the number of tweets to calculate average number of tweet favorites per month. \n",
    "\n",
    "As shown  by the plot, there does seem to be a correlation between his approval rating and the number of favorites his tweets gets. This result was unexpected but as seen in the plot, you can see a dramtic drop in his average approval rating and in his average tweet favorites from 1/2017 to 8/2017 at roughly the same time. You can also observe overall increases and decreases at about the same time as well from 10/2017 all the way to 1/2019. Trump is known for speaking his mind through his tweets which are often controversial and viewed by many people so it could be plausible that his tweets on politics, economy, political rivals, etc could be praised or disapproved by thousands of Americans which this sentiment could then be reflected through his approval ratings polls. But of course, correlation is not causation and this could just be a mere coincidence in the data and there actually is not correlation between the two. At the end of the plot at 3/2019, you see a great divergence between the two lines and this is due to the fact that the data for that particular time is not complete since the data I used for approval rating and number of tweet favorites only exists for about the first week of March and as of the current time of this project, we are only half way through the month(3/15/19). Overall, the results were very interesting and I was not expecting the line plots for each set of data to be so similar at the times they increased and decreased and can conclude that there is a possibilty that there is a correlation between the number of favorites his tweets get and his approval rating. "
   ]
  },
  {
   "cell_type": "code",
   "execution_count": 7,
   "metadata": {},
   "outputs": [
    {
     "data": {
      "image/png": "[encoded data removed]",
      "text/plain": [
       "<Figure size 432x288 with 1 Axes>"
      ]
     },
     "metadata": {
      "needs_background": "light"
     },
     "output_type": "display_data"
    }
   ],
   "source": [
    "bar_plot_for_words(number_positive_words, number_negative_words)"
   ]
  },
  {
   "cell_type": "markdown",
   "metadata": {},
   "source": [
    "This bar graph addresses the research question: __What is the overall tone of his tweets?__ This bar graph plots two different data, number of positive words used, and number of negative words used in Trumps tweets. I gathered a list of positive and negative words and checked each tweet from 1/2017 to 3/2019 for words that coincided in each of the positive/negative words list. For every word in his tweets that was deemed positive/negative, the function I created would add +1 to a counter. \n",
    "\n",
    "As seen in the bar graph, Trump uses a overwhelmingly number of negative words in his tweets. From the time frame I used data from, he used 1368 positive words and 6596 negative words. These results were expected but the dramatic difference between his usage of positive vs negative words was a surprise. From this result, it is safe to conclude that Trumps tweets overall have a negative tone to them which could possibly affect the state of mind of Americans towards a state of negativity. "
   ]
  },
  {
   "cell_type": "markdown",
   "metadata": {},
   "source": [
    "## Work Plan Evaluation\n",
    "\n",
    "Our workplan was pretty simple but carrying out the first step was a little more difficult then expected. For part 1, it took a little while longer to extract the data then expected because we had trouble figuring out how to get around some complications in the data like the date. Since we wanted to average out the data by month, we needed to figure out how to extract the data and compile it per month and exclude the days which took a while. Also, our initial data for trumps tweets only went to 2016 so we had to find another dataset to use to get his more recent tweets during his presidency. This step took us about 3 days to complete. \n",
    "\n",
    "For step 2, analyzing the data, it was actually pretty simple once we had gathered all the data and were able to finish this part a lot faster then expected since we simply had to plot the data and interpret the results. This step took us about 1 day.\n",
    "\n",
    "Interpreting the data was pretty simple as well since the plots we used were very clear and easy to understand. This step too about 1 day. \n",
    "\n",
    "The last step is presenting the data which was easy as well but was time consuming. It took a while to figure out formatting and the layout of our final jupityer notebook and then figuring out what to put in our slides for our video presentation. Then after that, we had to record our presentation and then edit some parts of it. This step took about 1 day. \n",
    "\n",
    "Our estimates for the most part were pretty spot on except for the first step due to complications with filtering the data and finding revelvant data to extract. We were also down a partner since our third member dropped the class but we were still able to finish what we wanted."
   ]
  },
  {
   "cell_type": "markdown",
   "metadata": {},
   "source": [
    "## Testing"
   ]
  },
  {
   "cell_type": "markdown",
   "metadata": {},
   "source": [
    "For the approval ratings, number of tweet favorites, and positive/negative words code, I tested the functions that extracted data and analyzed them as I was creating the function. For example, to test if I was able to successfully read each row of data in a csv or text file, I would just add a print(row) line inside of a for loop to check. Since we are working with rows of strings, this was the easiest way to check if I was selecting the right column of data or word in a row of text. Since I removed my \"tests\" as I completed each function, I will provide a example below for one of my functions. \n",
    "\n",
    "Our results can be trusted because "
   ]
  },
  {
   "cell_type": "code",
   "execution_count": 1,
   "metadata": {},
   "outputs": [],
   "source": [
    "#example of test\n",
    "def approval_ratings(file):\n",
    "    '''This function gathers every approval rating value and adds it to a list and returns\n",
    "    that list. It takes in the file parameter which is a csv with the approval rating data'''\n",
    "    open_file = open(file)\n",
    "    csv_file = csv.reader(open_file)\n",
    "    #this for loop tests to see if i opened the data correctly and can view\n",
    "    #each row of data\n",
    "    for row in csv_file:\n",
    "        print(row)"
   ]
  },
  {
   "cell_type": "code",
   "execution_count": null,
   "metadata": {},
   "outputs": [],
   "source": []
  }
 ],
 "metadata": {
  "kernelspec": {
   "display_name": "Python 3",
   "language": "python",
   "name": "python3"
  },
  "language_info": {
   "codemirror_mode": {
    "name": "ipython",
    "version": 3
   },
   "file_extension": ".py",
   "mimetype": "text/x-python",
   "name": "python",
   "nbconvert_exporter": "python",
   "pygments_lexer": "ipython3",
   "version": "3.7.1"
  }
 },
 "nbformat": 4,
 "nbformat_minor": 2
}
